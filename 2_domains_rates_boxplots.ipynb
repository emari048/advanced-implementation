{
 "cells": [
  {
   "cell_type": "code",
   "execution_count": null,
   "id": "45c78b40",
   "metadata": {},
   "outputs": [],
   "source": [
    "%matplotlib inline"
   ]
  },
  {
   "cell_type": "code",
   "execution_count": null,
   "id": "b93cc8bc",
   "metadata": {},
   "outputs": [],
   "source": [
    "\n",
    "from scipy.stats import mannwhitneyu\n",
    "from scipy.stats import ttest_ind\n",
    "import matplotlib.pyplot as plt"
   ]
  },
  {
   "cell_type": "markdown",
   "id": "74ba4cb3",
   "metadata": {
    "cell_marker": "######################################################################################"
   },
   "source": [
    "################# READ THIS FIRST ###################################################\n",
    "#####################################################################################"
   ]
  },
  {
   "cell_type": "code",
   "execution_count": null,
   "id": "59e9179c",
   "metadata": {},
   "outputs": [],
   "source": [
    "# Any statement that starts with a number sign is not read by Python, but it has information for you.\n",
    "# For data, you will be adding the data that you want to compare. Be sure to transpose as before.\n",
    "# First, replace the example data with the data you are comparing, e.g., evolutionary rates between pathogenic versus benign sites for your protein. \n",
    "# As before, you can also customize your box plot colors where specified.\n",
    "# Second, under Run, select Run all Cells. After several seconds, a p-value and box plot will appear at the bottom of the screen.\n",
    "# The script also generates a png showing the data as boxplot. Under Files (on the left), right-click and download your box plot.\n",
    "# Lastly, make note of the p-value(s) provided after running the script in your electronic lab notebook."
   ]
  },
  {
   "cell_type": "markdown",
   "id": "f9ad1f1d",
   "metadata": {
    "cell_marker": "# ##############################################################################"
   },
   "source": [
    "Change the names of Domain1 and Domain2 with the names of your selected domains.\n",
    "Then, replace the example data below with your data."
   ]
  },
  {
   "cell_type": "code",
   "execution_count": null,
   "id": "80d4b535",
   "metadata": {},
   "outputs": [],
   "source": [
    "Domain1 = 'p53_DBD'\n",
    "Domain2 = 'p53_TAD'\n",
    "\n",
    "Rates_Domain1 = -0.612 ,-0.023 ,-0.672 ,-0.363 ,0.265 ,-1.123 ,1.734 ,0.256 ,1.735 ,-0.885 ,1.705 ,-0.546 ,0.459 ,-1.066 ,-0.012 ,0.233 ,-0.893 ,-0.526 ,-0.924 ,-1.051 ,-1.087 ,-1.139 ,-0.873 ,-0.979 ,-0.471 ,-1.072 ,-0.348 ,-1.264 ,0.319 ,1.74 ,-1.078 ,-0.831 ,-1.222 ,-1.028 ,-0.01 ,-1.135 ,-1.112 ,-0.731 ,-0.87 ,-1.013 ,-1.035 ,-0.821 ,-1.052 ,-0.794 ,-0.78 ,-0.31 ,0.318 ,-0.641 ,1.594 ,0.599 ,1.275 ,-0.79 ,-1.204 ,1.729 ,-0.449 ,-0.187 ,0.596 ,-0.032 ,-1.194 ,-1.08 ,-0.791 ,-1.037 ,-0.513 ,-0.707 ,-1.14 ,-0.884 ,-0.546 ,-0.823 ,-1.035 ,-0.848 ,-0.872 ,-0.64 ,-1.06 ,-1.243 ,-0.6 ,-1.193 ,-1.178 ,-1.152 ,-1.071 ,-1.238 ,-0.908 ,-0.457 ,0.305 ,0.045 ,-0.433 ,-0.143 ,-0.375 ,0.583 ,1.091 ,-0.473 ,-0.736 ,-0.011 ,-0.52 ,-1.2 ,-1.139 ,-0.994 ,-1.041 ,-0.736 ,-1.14 ,-0.945 ,-0.69 ,0.045 ,0.457 ,-0.581 ,0.364 ,-1.236 ,1.725 ,-0.418 ,-1.005 ,1.737 ,0.492 ,-1.071 ,0.526 ,-1.232 ,-0.555 ,-1.251 ,-1.145 ,0.279 ,-0.69 ,-0.774 ,-1.07 ,-1.019 ,1.693 ,-1.245 ,-1.121 ,-0.563 ,-1.193 ,-0.91 ,-0.189 ,1.714 ,-0.986 ,-1.065 ,-0.342 ,-1.157 ,-0.714 ,-0.868 ,-0.142 ,-1.207 ,-1.233 ,-1.139 ,-1.14 ,-1.264 ,-1.233 ,-1.075 ,-1.193 ,-1.137 ,-1.136 ,-1.262 ,-1.193 ,-1.256 ,-1.04 ,-1.142 ,-0.437 ,-0.854 ,-1.15 ,-0.956 ,-1.218 ,-1.089 ,-1.254 ,-0.594 ,0.786 ,0.311 ,-1.077 ,0.164 ,-0.379 ,-1.241 ,-1.133 ,-1.194 ,-0.364 ,-0.64 ,-0.862 ,-1.143 ,-1.014 ,-1.231 ,-0.693 ,-1.177 ,-1.243 ,-1.116 ,-1.204 ,-1.136 ,-1.231 ,-1.193 ,-1.12 ,-0.736 ,-0.628 ,-0.862 ,-1.226 ,0.552 ,-0.545\n",
    "Rates_Domain2 = -0.127 ,-0.302 ,1.114 ,1.3 ,1.179 ,0.582 ,0.928 ,-0.97 ,0.471 ,-0.465 ,-0.752 ,-0.408 ,-0.448 ,-1.049 ,-0.115 ,1.535 ,0.511 ,-0.657 ,1.458 ,0.311 ,-0.082 ,-0.031 ,1.733 ,1.72 ,1.678 ,1.729 ,1.715 ,1.247 ,1.301 ,1.735 ,1.713 ,1.734 ,1.592 ,0.593 ,1.73 ,0.811 ,1.72 ,1.672 ,0.891 ,1.381 ,1.597 ,1.703 ,1.481 ,1.629 ,-0.063 ,1.724 ,1.595 ,1.714 ,0.336 ,-0.608"
   ]
  },
  {
   "cell_type": "markdown",
   "id": "cb73bcd1",
   "metadata": {
    "cell_marker": "########################################################################################"
   },
   "source": [
    "################# HERE YOU CAN SPECIFY WHICH COLORS TO USE ############################\n",
    "#######################################################################################"
   ]
  },
  {
   "cell_type": "code",
   "execution_count": null,
   "id": "3e94db89",
   "metadata": {},
   "outputs": [],
   "source": [
    "colors = ['#B5D3E7', '#FEE11A'] # You can replace the HEX CODES as you wish. Google color and HEX CODE to find your colors."
   ]
  },
  {
   "cell_type": "markdown",
   "id": "9604c316",
   "metadata": {
    "cell_marker": "########################################################################################"
   },
   "source": [
    "########################## *** NOTHING MORE TO CHANGE *** #############################\n",
    "############################### *** RUN THE SCRIPT *** ################################\n",
    "#######################################################################################"
   ]
  },
  {
   "cell_type": "code",
   "execution_count": null,
   "id": "9e811406",
   "metadata": {},
   "outputs": [],
   "source": [
    "data1 = eval('Rates_Domain1')    \n",
    "data2 = eval('Rates_Domain2')\n",
    "\n",
    "test_name=\"mann_wu\"                            \n",
    "\n",
    "# hypothesis test & results\n",
    "stat, p = mannwhitneyu(data1, data2)\n",
    "print('\\nHypothesis testing with Mann-Whitney for '+Domain1+' & '+Domain2+':')                         \n",
    "print('pvalue=%.3f' % (p))\n",
    "\n",
    "data=[data1, data2]\n",
    "fig1, ax1 = plt.subplots(figsize=(10, 10)) #You can change the size of the figure\n",
    "max_height =max(max(data1),max(data2)) # max height of data needed for plotting location siginifcance bars\n",
    "ax1.boxplot(data)\n",
    "\n",
    "medianprops = dict(linestyle='-', linewidth=2.0, color='grey') #You can change how your median looks\n",
    "meanpointprops = dict(marker='.', markersize=16, markeredgecolor='black', markerfacecolor='black') #You can change how the mean marker looks\n",
    "box = plt.boxplot(data, widths = 0.6, patch_artist=True, medianprops=medianprops, meanprops=meanpointprops, meanline=False, showmeans=True)\n",
    "          \n",
    "for patch, color in zip(box['boxes'], colors):\n",
    "    patch.set_facecolor(color)  \n",
    "ax1.set_title('Evolutionary rates', fontsize = 30, weight='bold')    \n",
    "plt.xticks([1, 2], [Domain1, Domain2], fontsize = 30) #Change text as needed for the data you are showing\n",
    "plt.yticks(fontsize = 24) #Change the tickmarks and axis to fix the data\n",
    "\n",
    "plt.savefig('rates_2_domains_boxplot.png'.format(Domain1, Domain2), dpi=600)"
   ]
  }
 ],
 "metadata": {
  "jupytext": {
   "cell_metadata_filter": "-all",
   "encoding": "# -*- coding: utf-8 -*-",
   "formats": "ipynb,py",
   "main_language": "python"
  }
 },
 "nbformat": 4,
 "nbformat_minor": 5
}
