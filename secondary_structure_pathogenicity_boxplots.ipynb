{
 "cells": [
  {
   "cell_type": "code",
   "execution_count": null,
   "id": "4c247f00",
   "metadata": {},
   "outputs": [],
   "source": [
    "%matplotlib inline"
   ]
  },
  {
   "cell_type": "code",
   "execution_count": null,
   "id": "62132d79",
   "metadata": {},
   "outputs": [],
   "source": [
    "\n",
    "from scipy.stats import mannwhitneyu\n",
    "from scipy.stats import ttest_ind\n",
    "import matplotlib.pyplot as plt"
   ]
  },
  {
   "cell_type": "markdown",
   "id": "25c8f3c7",
   "metadata": {
    "cell_marker": "######################################################################################"
   },
   "source": [
    "################# READ THIS FIRST ###################################################\n",
    "#####################################################################################"
   ]
  },
  {
   "cell_type": "code",
   "execution_count": null,
   "id": "67034a73",
   "metadata": {},
   "outputs": [],
   "source": [
    "# Any statement that starts with a number sign is not read by Python, but it has information for you.\n",
    "# For data, you will be adding the data that you want to compare. Be sure to transpose as before.\n",
    "# First, replace the example data with the data you are comparing, e.g., evolutionary rates between pathogenic versus benign sites for your protein. \n",
    "# As before, you can also customize your box plot colors where specified.\n",
    "# Second, under Run, select Run all Cells. After several seconds, a p-value and box plot will appear at the bottom of the screen.\n",
    "# The script also generates a png showing the data as boxplot. Under Files (on the left), right-click and download your box plot.\n",
    "# Lastly, make note of the p-value(s) provided after running the script in your electronic lab notebook."
   ]
  },
  {
   "cell_type": "markdown",
   "id": "7471aac8",
   "metadata": {
    "cell_marker": "# ##############################################################################"
   },
   "source": [
    "Replace the example data below with your data."
   ]
  },
  {
   "cell_type": "code",
   "execution_count": null,
   "id": "e3a90c25",
   "metadata": {},
   "outputs": [],
   "source": [
    "Pathogenicity_Sheet = 0.53 ,0.503 ,0.406 ,0.365 ,0.384 ,0.563 ,0.554 ,0.484 ,0.441 ,0.555 ,0.525 ,0.352 ,0.431 ,0.396 ,0.554 ,0.379 ,0.506 ,0.518 ,0.404 ,0.518 ,0.399 ,0.37 ,0.468 ,0.4 ,0.47 ,0.525 ,0.49 ,0.416 ,0.405 ,0.449 ,0.443 ,0.484 ,0.472 ,0.405 ,0.53 ,0.504 ,0.395 ,0.529 ,0.496 ,0.561 ,0.534 ,0.416 ,0.468 ,0.509 ,0.364 ,0.404 ,0.545 ,0.356 ,0.532 ,0.391 ,0.397 ,0.461 ,0.398 ,0.38 ,0.513 ,0.482 ,0.407 ,0.469 ,0.535 ,0.503 ,0.536 ,0.432 ,0.423 ,0.361 ,0.477 ,0.46 ,0.41 ,0.493 ,0.504 ,0.494 ,0.421 ,0.368 ,0.488 ,0.405 ,0.409 ,0.345 ,0.539 ,0.466 ,0.374 ,0.379 ,0.371 ,0.373 ,0.373 ,0.525 ,0.558 ,0.372 ,0.349 ,0.507 ,0.387 ,0.552 ,0.443 ,0.551 ,0.466 ,0.392 ,0.442 ,0.523 ,0.544 ,0.364 ,0.437 ,0.461 ,0.357 ,0.411 ,0.486 ,0.448 ,0.56 ,0.349 ,0.437 ,0.408 ,0.351 ,0.341 ,0.361 ,0.398 ,0.479 ,0.514 ,0.461 ,0.527 ,0.384 ,0.431 ,0.406 ,0.404 ,0.363 ,0.35 ,0.4 ,0.422 ,0.556 ,0.366 ,0.391 ,0.378 ,0.424 ,0.496 ,0.382 ,0.521 ,0.437 ,0.472 ,0.473 ,0.368 ,0.345 ,0.361 ,0.388 ,0.482 ,0.408 ,0.531 ,0.452 ,0.511 ,0.51 ,0.398 ,0.44 ,0.561 ,0.42 ,0.546 ,0.448 ,0.382 ,0.495 ,0.559 ,0.472 ,0.512 ,0.376 ,0.4 ,0.396 ,0.475 ,0.554 ,0.51 ,0.526 ,0.354 ,0.482 ,0.352 ,0.559 ,0.437 ,0.403 ,0.423 ,0.405 ,0.457 ,0.353 ,0.369 ,0.48 ,0.44 ,0.503 ,0.551 ,0.363 ,0.536 ,0.483 ,0.401 ,0.401 ,0.512 ,0.503 ,0.531 ,0.444 ,0.377 ,0.509 ,0.41 ,0.485 ,0.359 ,0.548 ,0.471 ,0.351 ,0.56 ,0.514 ,0.499 ,0.547 ,0.542 ,0.421 ,0.493 ,0.485 ,0.398 ,0.385 ,0.414 ,0.398 ,0.533 ,0.486 ,0.434 ,0.531 ,0.506 ,0.4 ,0.348 ,0.537 ,0.444 ,0.5 ,0.508 ,0.515 ,0.451 ,0.536 ,0.443 ,0.504 ,0.416 ,0.445 ,0.559 ,0.486 ,0.342 ,0.43 ,0.549 ,0.529 ,0.55 ,0.397 ,0.401 ,0.559 ,0.375 ,0.478 ,0.404 ,0.408 ,0.472 ,0.384 ,0.498 ,0.473 ,0.435 ,0.471 ,0.54 ,0.535 ,0.522 ,0.459 ,0.544 ,0.528 ,0.498 ,0.551 ,0.449 ,0.45 ,0.451 ,0.429 ,0.418 ,0.359 ,0.504 ,0.504 ,0.348 ,0.456 ,0.479 ,0.482 ,0.382 ,0.4 ,0.352 ,0.549 ,0.495 ,0.351 ,0.536 ,0.39 ,0.388 ,0.377 ,0.492 ,0.379 ,0.436 ,0.502 ,0.453 ,0.391 ,0.524 ,0.555 ,0.43 ,0.354 ,0.443 ,0.404 ,0.457 ,0.349 ,0.471 ,0.513 ,0.513 ,0.51 ,0.351 ,0.451 ,0.354 ,0.408\n",
    "Pathogenicity_Helix = 0.433 ,0.428 ,0.463 ,0.555 ,0.407 ,0.351 ,0.406 ,0.359 ,0.48 ,0.38 ,0.454 ,0.364 ,0.358 ,0.434 ,0.439 ,0.543 ,0.419 ,0.361 ,0.544 ,0.381 ,0.363 ,0.528 ,0.378 ,0.541 ,0.354 ,0.345 ,0.504 ,0.35 ,0.381 ,0.488 ,0.547 ,0.546 ,0.527 ,0.528 ,0.398 ,0.523 ,0.515 ,0.545 ,0.437 ,0.408 ,0.518 ,0.519 ,0.46 ,0.38 ,0.421 ,0.497 ,0.348 ,0.349 ,0.556 ,0.484 ,0.344 ,0.347 ,0.468 ,0.516 ,0.558 ,0.554 ,0.514 ,0.493 ,0.537 ,0.445 ,0.484 ,0.424 ,0.482 ,0.452 ,0.375 ,0.353 ,0.378 ,0.5 ,0.423 ,0.372 ,0.467 ,0.376 ,0.501 ,0.492 ,0.468\n",
    "Pathogenicity_Loop = 0.467 ,0.416 ,0.524 ,0.355 ,0.341 ,0.378 ,0.453 ,0.341 ,0.443 ,0.404 ,0.417 ,0.499 ,0.472 ,0.506 ,0.462 ,0.481 ,0.527 ,0.407 ,0.55 ,0.412 ,0.53 ,0.385 ,0.432 ,0.349 ,0.424 ,0.503 ,0.558 ,0.561 ,0.416 ,0.432 ,0.472 ,0.422 ,0.532 ,0.497 ,0.357 ,0.35 ,0.551 ,0.466 ,0.44 ,0.399 ,0.491 ,0.465 ,0.411 ,0.512 ,0.504 ,0.553 ,0.523 ,0.368 ,0.494 ,0.428 ,0.359 ,0.461 ,0.417 ,0.498 ,0.398 ,0.498 ,0.536 ,0.376 ,0.373 ,0.421 ,0.483 ,0.43 ,0.435 ,0.425 ,0.421 ,0.427 ,0.343 ,0.433 ,0.387 ,0.512 ,0.484 ,0.411 ,0.399 ,0.381 ,0.428 ,0.393 ,0.477 ,0.442 ,0.342 ,0.374 ,0.42 ,0.388 ,0.369 ,0.413 ,0.417 ,0.465 ,0.55 ,0.522 ,0.471 ,0.433 ,0.382 ,0.518 ,0.482 ,0.361 ,0.402 ,0.343 ,0.357 ,0.456 ,0.46 ,0.502 ,0.386 ,0.467 ,0.522 ,0.471 ,0.512 ,0.541 ,0.342 ,0.526 ,0.364 ,0.346 ,0.368 ,0.548 ,0.518 ,0.383 ,0.415 ,0.44 ,0.553 ,0.374 ,0.355 ,0.391 ,0.381 ,0.341 ,0.439 ,0.402 ,0.353 ,0.417 ,0.377 ,0.533 ,0.552 ,0.558 ,0.513 ,0.452 ,0.438 ,0.526 ,0.396 ,0.363 ,0.459 ,0.436 ,0.381 ,0.346 ,0.557 ,0.553 ,0.49 ,0.397 ,0.408 ,0.481 ,0.528 ,0.381 ,0.511 ,0.446 ,0.471 ,0.539 ,0.421 ,0.417 ,0.411 ,0.343 ,0.345 ,0.401 ,0.343 ,0.429 ,0.364 ,0.413 ,0.426 ,0.538 ,0.513 ,0.44 ,0.487 ,0.56 ,0.452 ,0.346 ,0.395 ,0.492 ,0.392 ,0.413 ,0.491 ,0.387 ,0.341 ,0.365 ,0.479 ,0.467 ,0.466 ,0.445 ,0.476 ,0.482 ,0.509 ,0.4 ,0.405 ,0.462 ,0.403 ,0.503 ,0.352 ,0.359 ,0.476 ,0.454 ,0.428 ,0.549 ,0.358 ,0.372 ,0.383 ,0.39 ,0.371 ,0.493 ,0.477 ,0.515 ,0.364 ,0.406 ,0.363 ,0.541 ,0.488 ,0.432 ,0.413 ,0.508 ,0.365 ,0.438 ,0.355 ,0.49 ,0.401 ,0.444 ,0.486 ,0.389 ,0.361 ,0.409 ,0.411 ,0.377 ,0.428 ,0.344 ,0.445 ,0.432 ,0.423 ,0.488 ,0.437 ,0.506 ,0.368 ,0.505 ,0.369 ,0.371 ,0.506 ,0.398 ,0.35 ,0.537 ,0.365 ,0.543 ,0.378 ,0.443 ,0.494 ,0.345 ,0.419 ,0.459 ,0.353 ,0.445 ,0.444 ,0.341 ,0.368 ,0.542 ,0.54 ,0.471 ,0.436 ,0.379 ,0.448 ,0.358 ,0.354 ,0.507 ,0.496 ,0.537 ,0.523 ,0.553 ,0.44 ,0.523 ,0.354 ,0.561 ,0.425 ,0.359 ,0.374 ,0.549 ,0.373 ,0.443 ,0.398 ,0.443 ,0.508 ,0.396 ,0.388 ,0.402 ,0.49 ,0.464 ,0.508"
   ]
  },
  {
   "cell_type": "markdown",
   "id": "7f3d3ac7",
   "metadata": {
    "cell_marker": "########################################################################################"
   },
   "source": [
    "################# HERE YOU CAN SPECIFY WHICH COLORS TO USE ############################\n",
    "#######################################################################################"
   ]
  },
  {
   "cell_type": "code",
   "execution_count": null,
   "id": "7a688fb8",
   "metadata": {},
   "outputs": [],
   "source": [
    "colors = ['#B5D3E7', '#FEE11A', '#9DD4CF'] # You can replace the HEX CODES as you wish. Google color and HEX CODE to find your colors."
   ]
  },
  {
   "cell_type": "markdown",
   "id": "df755e96",
   "metadata": {
    "cell_marker": "########################################################################################"
   },
   "source": [
    "########################## *** NOTHING MORE TO CHANGE *** #############################\n",
    "############################### *** RUN THE SCRIPT *** ################################\n",
    "#######################################################################################"
   ]
  },
  {
   "cell_type": "code",
   "execution_count": null,
   "id": "6ab71909",
   "metadata": {},
   "outputs": [],
   "source": [
    "Type1 = 'Sheet'\n",
    "Type2 = 'Helix'\n",
    "Type3 = 'Loop'\n",
    "data1 = eval('Pathogenicity_'+Type1)    \n",
    "data2 = eval('Pathogenicity_'+Type2)\n",
    "data3 = eval('Pathogenicity_'+Type3)\n",
    "\n",
    "\n",
    "test_name=\"mann_wu\"                            \n",
    "\n",
    "# hypothesis test & results\n",
    "stat, p = mannwhitneyu(data1, data2)\n",
    "print('\\nHypothesis testing with Mann-Whitney for '+Type1+' & '+Type2+':')                         \n",
    "print('pvalue=%.3f' % (p))\n",
    "\n",
    "stat, p = mannwhitneyu(data2, data3)\n",
    "print('\\nHypothesis testing with Mann-Whitney for '+Type2+' & '+Type3+':')                         \n",
    "print('pvalue=%.3f' % (p))\n",
    "\n",
    "stat, p = mannwhitneyu(data1, data3)\n",
    "print('\\nHypothesis testing with Mann-Whitney for '+Type1+' & '+Type3+':')                         \n",
    "print('pvalue=%.3f' % (p))\n",
    "\n",
    "data=[data1, data2, data3]\n",
    "fig1, ax1 = plt.subplots(figsize=(8, 8)) #You can change the size of the figure\n",
    "max_height =max(max(data1),max(data2),max(data3)) # max height of data needed for plotting location siginifcance bars\n",
    "ax1.boxplot(data)\n",
    "\n",
    "medianprops = dict(linestyle='-', linewidth=2.0, color='grey') #You can change how your median looks\n",
    "meanpointprops = dict(marker='.', markersize=16, markeredgecolor='black', markerfacecolor='black') #You can change how the mean marker looks\n",
    "box = plt.boxplot(data, widths = 0.6, patch_artist=True, medianprops=medianprops, meanprops=meanpointprops, meanline=False, showmeans=True)\n",
    "          \n",
    "for patch, color in zip(box['boxes'], colors):\n",
    "    patch.set_facecolor(color)  \n",
    "ax1.set_title('Pathogenicity scores', fontsize = 24, weight='bold')    \n",
    "plt.xticks([1, 2, 3], [Type1, Type2, Type3], fontsize = 30) #Change text as needed for the data you are showing\n",
    "plt.yticks(fontsize = 24) #Change the tickmarks and axis to fix the data\n",
    "\n",
    "plt.savefig('pathogenicity_secondary_structure_boxplot.png'.format(Type1, Type2, Type3), dpi=600)"
   ]
  }
 ],
 "metadata": {
  "jupytext": {
   "cell_metadata_filter": "-all",
   "encoding": "# -*- coding: utf-8 -*-",
   "formats": "ipynb,py",
   "main_language": "python"
  }
 },
 "nbformat": 4,
 "nbformat_minor": 5
}
