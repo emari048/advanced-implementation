{
 "cells": [
  {
   "cell_type": "code",
   "execution_count": null,
   "id": "5a814fd9",
   "metadata": {},
   "outputs": [],
   "source": [
    "%matplotlib inline"
   ]
  },
  {
   "cell_type": "code",
   "execution_count": null,
   "id": "263fa747",
   "metadata": {},
   "outputs": [],
   "source": [
    "\n",
    "from scipy.stats import mannwhitneyu\n",
    "from scipy.stats import ttest_ind\n",
    "import matplotlib.pyplot as plt"
   ]
  },
  {
   "cell_type": "markdown",
   "id": "22d552d8",
   "metadata": {
    "cell_marker": "######################################################################################"
   },
   "source": [
    "################# READ THIS FIRST ###################################################\n",
    "#####################################################################################"
   ]
  },
  {
   "cell_type": "code",
   "execution_count": null,
   "id": "50e4e1c3",
   "metadata": {},
   "outputs": [],
   "source": [
    "# Any statement that starts with a number sign is not read by Python, but it has information for you.\n",
    "# For data, you will be adding the data that you want to compare. Be sure to transpose as before.\n",
    "# First, replace the example data with the data you are comparing, e.g., evolutionary rates between pathogenic versus benign sites for your protein. \n",
    "# As before, you can also customize your box plot colors where specified.\n",
    "# Second, under Run, select Run all Cells. After several seconds, a p-value and box plot will appear at the bottom of the screen.\n",
    "# The script also generates a png showing the data as boxplot. Under Files (on the left), right-click and download your box plot.\n",
    "# Lastly, make note of the p-value(s) provided after running the script in your electronic lab notebook."
   ]
  },
  {
   "cell_type": "markdown",
   "id": "38ec064c",
   "metadata": {
    "cell_marker": "# ##############################################################################"
   },
   "source": [
    "Change the names of Domain1 and Domain2 with the names of your selected domains.\n",
    "Then, replace the example data below with your data."
   ]
  },
  {
   "cell_type": "code",
   "execution_count": null,
   "id": "beb8acb3",
   "metadata": {},
   "outputs": [],
   "source": [
    "Domain1 = 'p53_DBD'\n",
    "Domain2 = 'p53_TAD'\n",
    "\n",
    "Pathogenicity_Domain1 = 0.347 ,0.36 ,0.203 ,0.759 ,0.15 ,0.986 ,0.127 ,0.583 ,0.479 ,0.981 ,0.261 ,0.813 ,0.567 ,0.975 ,0.43 ,0.169 ,0.637 ,0.868 ,0.678 ,0.901 ,0.978 ,0.963 ,0.92 ,0.728 ,0.814 ,0.978 ,0.907 ,0.954 ,0.23 ,0.13 ,0.807 ,0.561 ,0.969 ,0.843 ,0.966 ,0.976 ,0.868 ,0.861 ,0.811 ,0.912 ,0.836 ,0.939 ,0.934 ,0.892 ,0.658 ,0.812 ,0.569 ,0.774 ,0.263 ,0.2 ,0.133 ,0.9 ,0.688 ,0.169 ,0.521 ,0.698 ,0.49 ,0.911 ,0.985 ,0.869 ,0.882 ,0.937 ,0.868 ,0.95 ,0.891 ,0.484 ,0.536 ,0.52 ,0.755 ,0.764 ,0.681 ,0.92 ,0.87 ,0.979 ,0.78 ,0.989 ,1 ,0.982 ,0.974 ,0.998 ,0.961 ,0.845 ,0.495 ,0.375 ,0.52 ,0.317 ,0.744 ,0.519 ,0.319 ,0.827 ,0.865 ,0.707 ,0.469 ,0.992 ,0.948 ,0.892 ,0.954 ,0.91 ,0.964 ,0.951 ,0.809 ,0.199 ,0.255 ,0.687 ,0.475 ,0.983 ,0.238 ,0.636 ,0.929 ,0.174 ,0.228 ,0.836 ,0.559 ,0.986 ,0.924 ,0.911 ,0.926 ,0.7 ,0.892 ,0.762 ,0.906 ,0.774 ,0.271 ,0.919 ,0.873 ,0.574 ,0.918 ,0.575 ,0.351 ,0.536 ,0.679 ,0.754 ,0.874 ,0.847 ,0.872 ,0.738 ,0.933 ,0.957 ,0.999 ,0.952 ,0.976 ,0.995 ,0.999 ,0.935 ,0.998 ,0.997 ,0.982 ,0.975 ,0.999 ,0.989 ,0.931 ,0.931 ,0.589 ,0.908 ,0.909 ,0.871 ,0.921 ,0.926 ,0.992 ,0.871 ,0.215 ,0.21 ,0.94 ,0.242 ,0.756 ,0.828 ,0.988 ,0.976 ,0.364 ,0.612 ,0.972 ,0.925 ,0.934 ,0.995 ,0.945 ,0.998 ,0.972 ,0.997 ,0.999 ,0.993 ,0.999 ,0.999 ,0.965 ,0.839 ,0.595 ,0.976 ,0.959 ,0.468 ,0.624\n",
    "Pathogenicity_Domain2 = 0.136 ,0.179 ,0.096 ,0.122 ,0.137 ,0.276 ,0.166 ,0.397 ,0.573 ,0.732 ,0.647 ,0.653 ,0.682 ,0.95 ,0.289 ,0.299 ,0.719 ,0.947 ,0.212 ,0.24 ,0.597 ,0.388 ,0.206 ,0.185 ,0.167 ,0.108 ,0.13 ,0.138 ,0.131 ,0.14 ,0.212 ,0.219 ,0.204 ,0.166 ,0.197 ,0.163 ,0.158 ,0.149 ,0.144 ,0.173 ,0.168 ,0.152 ,0.132 ,0.368 ,0.289 ,0.105 ,0.191 ,0.157 ,0.115 ,0.109"
   ]
  },
  {
   "cell_type": "markdown",
   "id": "b83619fa",
   "metadata": {
    "cell_marker": "########################################################################################"
   },
   "source": [
    "################# HERE YOU CAN SPECIFY WHICH COLORS TO USE ############################\n",
    "#######################################################################################"
   ]
  },
  {
   "cell_type": "code",
   "execution_count": null,
   "id": "60c43d45",
   "metadata": {},
   "outputs": [],
   "source": [
    "colors = ['#B5D3E7', '#FEE11A'] # You can replace the HEX CODES as you wish. Google color and HEX CODE to find your colors."
   ]
  },
  {
   "cell_type": "markdown",
   "id": "8f2b993f",
   "metadata": {
    "cell_marker": "########################################################################################"
   },
   "source": [
    "########################## *** NOTHING MORE TO CHANGE *** #############################\n",
    "############################### *** RUN THE SCRIPT *** ################################\n",
    "#######################################################################################"
   ]
  },
  {
   "cell_type": "code",
   "execution_count": null,
   "id": "28bf59f7",
   "metadata": {},
   "outputs": [],
   "source": [
    "data1 = eval('Pathogenicity_Domain1')    \n",
    "data2 = eval('Pathogenicity_Domain2')\n",
    "\n",
    "test_name=\"mann_wu\"                            \n",
    "\n",
    "# hypothesis test & results\n",
    "stat, p = mannwhitneyu(data1, data2)\n",
    "print('\\nHypothesis testing with Mann-Whitney for '+Domain1+' & '+Domain2+':')                         \n",
    "print('pvalue=%.3f' % (p))\n",
    "\n",
    "data=[data1, data2]\n",
    "fig1, ax1 = plt.subplots(figsize=(10, 10)) #You can change the size of the figure\n",
    "max_height =max(max(data1),max(data2)) # max height of data needed for plotting location siginifcance bars\n",
    "ax1.boxplot(data)\n",
    "\n",
    "medianprops = dict(linestyle='-', linewidth=2.0, color='grey') #You can change how your median looks\n",
    "meanpointprops = dict(marker='.', markersize=16, markeredgecolor='black', markerfacecolor='black') #You can change how the mean marker looks\n",
    "box = plt.boxplot(data, widths = 0.6, patch_artist=True, medianprops=medianprops, meanprops=meanpointprops, meanline=False, showmeans=True)\n",
    "          \n",
    "for patch, color in zip(box['boxes'], colors):\n",
    "    patch.set_facecolor(color)  \n",
    "ax1.set_title('Pathogenicity scores', fontsize = 30, weight='bold')    \n",
    "plt.xticks([1, 2], [Domain1, Domain2], fontsize = 30) #Change text as needed for the data you are showing\n",
    "plt.yticks(fontsize = 24) #Change the tickmarks and axis to fix the data\n",
    "\n",
    "plt.savefig('pathogenicity_2_domains_boxplot.png'.format(Domain1, Domain2), dpi=600)"
   ]
  }
 ],
 "metadata": {
  "jupytext": {
   "cell_metadata_filter": "-all",
   "encoding": "# -*- coding: utf-8 -*-",
   "formats": "ipynb,py",
   "main_language": "python"
  }
 },
 "nbformat": 4,
 "nbformat_minor": 5
}
