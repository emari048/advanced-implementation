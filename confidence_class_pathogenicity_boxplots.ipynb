{
 "cells": [
  {
   "cell_type": "code",
   "execution_count": null,
   "id": "c57f3e2d",
   "metadata": {},
   "outputs": [],
   "source": [
    "%matplotlib inline"
   ]
  },
  {
   "cell_type": "code",
   "execution_count": null,
   "id": "539e9229",
   "metadata": {},
   "outputs": [],
   "source": [
    "\n",
    "from scipy.stats import mannwhitneyu\n",
    "from scipy.stats import ttest_ind\n",
    "import matplotlib.pyplot as plt"
   ]
  },
  {
   "cell_type": "markdown",
   "id": "cecac657",
   "metadata": {
    "cell_marker": "######################################################################################"
   },
   "source": [
    "################# READ THIS FIRST ###################################################\n",
    "#####################################################################################"
   ]
  },
  {
   "cell_type": "code",
   "execution_count": null,
   "id": "8063d3b6",
   "metadata": {},
   "outputs": [],
   "source": [
    "# Any statement that starts with a number sign is not read by Python, but it has information for you.\n",
    "# For data, you will be adding the data that you want to compare. Be sure to transpose as before.\n",
    "# First, replace the example data with the data you are comparing, e.g., evolutionary rates between pathogenic versus benign sites for your protein. \n",
    "# As before, you can also customize your box plot colors where specified.\n",
    "# Second, under Run, select Run all Cells. After several seconds, a p-value and box plot will appear at the bottom of the screen.\n",
    "# The script also generates a png showing the data as boxplot. Under Files (on the left), right-click and download your box plot.\n",
    "# Lastly, make note of the p-value(s) provided after running the script in your electronic lab notebook."
   ]
  },
  {
   "cell_type": "markdown",
   "id": "6c107e86",
   "metadata": {
    "cell_marker": "# ##############################################################################"
   },
   "source": [
    "Replace the example data below with your data."
   ]
  },
  {
   "cell_type": "code",
   "execution_count": null,
   "id": "3550da09",
   "metadata": {},
   "outputs": [],
   "source": [
    "Pathogenicity_Very_high = 0.481 ,0.527 ,0.407 ,0.412 ,0.385 ,0.432 ,0.349 ,0.424 ,0.503 ,0.558 ,0.561 ,0.416 ,0.432\n",
    "Pathogenicity_High = 0.55 ,0.53 ,0.364 ,0.368 ,0.369 ,0.459 ,0.448 ,0.354 ,0.44 ,0.523 ,0.354 ,0.561 ,0.425\n",
    "Pathogenicity_Low = 0.406 ,0.462 ,0.381 ,0.428 ,0.482 ,0.526 ,0.548 ,0.518 ,0.383 ,0.44 ,0.405 ,0.402 ,0.397 ,0.388 ,0.415 ,0.426 ,0.416 ,0.439\n",
    "Pathogenicity_Very_low = 0.467 ,0.416 ,0.524 ,0.355 ,0.341 ,0.378 ,0.453 ,0.341 ,0.443 ,0.404 ,0.417 ,0.499 ,0.472 ,0.472 ,0.422 ,0.532 ,0.497 ,0.357 ,0.35 ,0.551 ,0.466 ,0.44 ,0.399 ,0.491 ,0.465 ,0.411 ,0.512 ,0.504 ,0.553 ,0.523 ,0.368 ,0.494 ,0.428 ,0.359 ,0.461 ,0.417 ,0.498 ,0.398 ,0.498 ,0.536 ,0.376 ,0.373 ,0.421 ,0.483 ,0.43 ,0.435 ,0.425 ,0.421 ,0.427 ,0.343 ,0.433 ,0.387 ,0.512 ,0.484 ,0.411 ,0.399 ,0.393 ,0.477 ,0.442 ,0.342 ,0.374 ,0.42 ,0.388 ,0.369 ,0.413 ,0.417 ,0.465 ,0.55 ,0.522 ,0.471 ,0.433 ,0.382 ,0.518 ,0.361 ,0.402 ,0.343 ,0.357 ,0.456 ,0.46 ,0.502 ,0.386"
   ]
  },
  {
   "cell_type": "markdown",
   "id": "2f2e06bf",
   "metadata": {
    "cell_marker": "########################################################################################"
   },
   "source": [
    "################# HERE YOU CAN SPECIFY WHICH COLORS TO USE ############################\n",
    "#######################################################################################"
   ]
  },
  {
   "cell_type": "code",
   "execution_count": null,
   "id": "380ec864",
   "metadata": {},
   "outputs": [],
   "source": [
    "colors = ['#B5D3E7', '#FEE11A', '#9DD4CF', '#FFC0CB'] # You can replace the HEX CODES as you wish. Google color and HEX CODE to find your colors."
   ]
  },
  {
   "cell_type": "markdown",
   "id": "b0e012b6",
   "metadata": {
    "cell_marker": "########################################################################################"
   },
   "source": [
    "########################## *** NOTHING MORE TO CHANGE *** #############################\n",
    "############################### *** RUN THE SCRIPT *** ################################\n",
    "#######################################################################################"
   ]
  },
  {
   "cell_type": "code",
   "execution_count": null,
   "id": "d7b3181c",
   "metadata": {},
   "outputs": [],
   "source": [
    "Type1 = 'Very_high'\n",
    "Type2 = 'High'\n",
    "Type3 = 'Low'\n",
    "Type4 = 'Very_low'\n",
    "data1 = eval('Pathogenicity_'+Type1)    \n",
    "data2 = eval('Pathogenicity_'+Type2)\n",
    "data3 = eval('Pathogenicity_'+Type3)\n",
    "data4 = eval('Pathogenicity_'+Type4)\n",
    "\n",
    "test_name=\"mann_wu\"                            \n",
    "\n",
    "# hypothesis test & results\n",
    "stat, p = mannwhitneyu(data1, data2)\n",
    "print('\\nHypothesis testing with Mann-Whitney for '+Type1+' & '+Type2+':')                         \n",
    "print('pvalue=%.3f' % (p))\n",
    "\n",
    "stat, p = mannwhitneyu(data1, data3)\n",
    "print('\\nHypothesis testing with Mann-Whitney for '+Type1+' & '+Type3+':')                         \n",
    "print('pvalue=%.3f' % (p))\n",
    "\n",
    "stat, p = mannwhitneyu(data1, data4)\n",
    "print('\\nHypothesis testing with Mann-Whitney for '+Type1+' & '+Type4+':')                         \n",
    "print('pvalue=%.3f' % (p))\n",
    "\n",
    "stat, p = mannwhitneyu(data2, data3)\n",
    "print('\\nHypothesis testing with Mann-Whitney for '+Type2+' & '+Type3+':')                         \n",
    "print('pvalue=%.3f' % (p))\n",
    "\n",
    "stat, p = mannwhitneyu(data2, data4)\n",
    "print('\\nHypothesis testing with Mann-Whitney for '+Type2+' & '+Type4+':')                         \n",
    "print('pvalue=%.3f' % (p))\n",
    "\n",
    "stat, p = mannwhitneyu(data3, data4)\n",
    "print('\\nHypothesis testing with Mann-Whitney for '+Type3+' & '+Type4+':')                         \n",
    "print('pvalue=%.3f' % (p))\n",
    "\n",
    "\n",
    "data=[data1, data2, data3, data4]\n",
    "fig1, ax1 = plt.subplots(figsize=(10, 10)) #You can change the size of the figure\n",
    "max_height =max(max(data1),max(data2),max(data3),max(data4)) # max height of data needed for plotting location siginifcance bars\n",
    "ax1.boxplot(data)\n",
    "\n",
    "medianprops = dict(linestyle='-', linewidth=2.0, color='grey') #You can change how your median looks\n",
    "meanpointprops = dict(marker='.', markersize=16, markeredgecolor='black', markerfacecolor='black') #You can change how the mean marker looks\n",
    "box = plt.boxplot(data, widths = 0.6, patch_artist=True, medianprops=medianprops, meanprops=meanpointprops, meanline=False, showmeans=True)\n",
    "          \n",
    "for patch, color in zip(box['boxes'], colors):\n",
    "    patch.set_facecolor(color)  \n",
    "ax1.set_title('Pathogenicity scores', fontsize = 30, weight='bold')    \n",
    "plt.xticks([1, 2, 3, 4], [Type1, Type2, Type3, Type4], fontsize = 30) #Change text as needed for the data you are showing\n",
    "plt.yticks(fontsize = 24) #Change the tickmarks and axis to fix the data\n",
    "\n",
    "plt.savefig('pathogenicity_confidence_boxplot.png'.format(Type1, Type2, Type3, Type4), dpi=600)"
   ]
  }
 ],
 "metadata": {
  "jupytext": {
   "cell_metadata_filter": "-all",
   "encoding": "# -*- coding: utf-8 -*-",
   "formats": "ipynb,py",
   "main_language": "python"
  }
 },
 "nbformat": 4,
 "nbformat_minor": 5
}
